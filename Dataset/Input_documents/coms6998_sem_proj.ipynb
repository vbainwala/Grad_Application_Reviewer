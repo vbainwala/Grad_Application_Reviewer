{
  "nbformat": 4,
  "nbformat_minor": 0,
  "metadata": {
    "colab": {
      "provenance": []
    },
    "kernelspec": {
      "name": "python3",
      "display_name": "Python 3"
    },
    "language_info": {
      "name": "python"
    }
  },
  "cells": [
    {
      "cell_type": "code",
      "source": [
        "import requests\n",
        "from pydantic import BaseModel, Field\n",
        "import datetime\n",
        "from typing import List, Dict\n",
        "from langchain.agents import initialize_agent, Tool"
      ],
      "metadata": {
        "id": "hVQYy4kUiV3h"
      },
      "execution_count": null,
      "outputs": []
    },
    {
      "cell_type": "code",
      "execution_count": null,
      "metadata": {
        "id": "zRANnytg6KSc"
      },
      "outputs": [],
      "source": [
        "import os\n",
        "import openai\n",
        "from langchain.chat_models import ChatOpenAI\n",
        "from langchain.prompts import ChatPromptTemplate\n",
        "\n",
        "os.environ['OPENAI_API_KEY'] = ''"
      ]
    },
    {
      "cell_type": "code",
      "source": [
        "!pip uninstall -y langchain pydantic\n",
        "!pip install langchain==0.0.319 pydantic==1.10.8 openai==0.28.1"
      ],
      "metadata": {
        "id": "LOW5jBxiiW7l"
      },
      "execution_count": null,
      "outputs": []
    },
    {
      "cell_type": "code",
      "source": [
        "from langchain.agents import tool"
      ],
      "metadata": {
        "id": "VGryPaFtkqNp"
      },
      "execution_count": null,
      "outputs": []
    },
    {
      "cell_type": "code",
      "source": [
        "class student_profile_path(BaseModel):\n",
        "    path: str = Field(..., description=\"path to the json file containing all student profiles\")\n",
        "\n",
        "class professor_profile_path(BaseModel):\n",
        "    path: str = Field(..., description=\"path to professor's profile\")"
      ],
      "metadata": {
        "id": "LIVFvFWdk5it"
      },
      "execution_count": null,
      "outputs": []
    },
    {
      "cell_type": "code",
      "source": [
        "def load_student_profiles(path: str):\n",
        "    with open(path, 'r') as f:\n",
        "        return json.load(f)\n",
        "\n",
        "def load_professor_profiles(path: str):\n",
        "    with open(path, 'r') as f:\n",
        "        return json.load(f)\n",
        "\n",
        "def compare_profiles(students, professor):\n",
        "    model = OpenAI()\n",
        "    prompt_template = PromptTemplate(\n",
        "        input_variables=['student','professor'],\n",
        "        template=\"Compare the student and professor's profile and returns how well of a fit this application is: {student} {professor}.\"\n",
        "    )\n",
        "\n",
        "load_student_profiles_tool = Tool(\n",
        "    func=load_student_profiles,\n",
        "    name=\"Load Student Profiles\",\n",
        "    description=\"Loads the student profiles using the json file path provided\",\n",
        "    args_schema=student_profile_path\n",
        ")\n",
        "\n",
        "load_professor_profiles_tool = Tool(\n",
        "    func=load_professor_profiles,\n",
        "    name=\"Load Professor Profiles\",\n",
        "    description=\"Loads the professor profiles using the json file path provided\",\n",
        "    args_schema=professor_profile_path\n",
        ")\n",
        "\n",
        "compare_profiles_tool = Tool(\n",
        "    func=compare_profiles,\n",
        "    name=\"Compare Profiles\",\n",
        "    description=\"Compares the student and professor's profile and returns how well of a fit this application is\"\n",
        ")"
      ],
      "metadata": {
        "id": "fsWWpMBWeJ3x"
      },
      "execution_count": null,
      "outputs": []
    },
    {
      "cell_type": "code",
      "source": [
        "tools = [\n",
        "   load_student_profiles_tool,\n",
        "   load_professor_profiles_tool,\n",
        "   compare_profiles_tool\n",
        "]\n",
        "llm = OpenAI(temperature=0)\n",
        "agent = initialize_agent(tools=tools,llm=llm,agent=AgentType.ZERO_SHOT_REACT_DESCRIPTION,verbose=True)\n"
      ],
      "metadata": {
        "id": "2m4P_1aEedSZ"
      },
      "execution_count": null,
      "outputs": []
    },
    {
      "cell_type": "code",
      "source": [
        " student_file = \"student_profiles.json\"\n",
        " professor_file = \"professor_profile.json\"\n",
        " result = agent.run(f\"\"\"\n",
        "    Load the student profiles from {student_file}.\n",
        "    Load the professor profile from {professor_file}.\n",
        "    Then, compare the profiles and return the most common student profiles for the professor.\n",
        "    \"\"\")\n",
        "print(result)"
      ],
      "metadata": {
        "id": "Mzy29XB_7P5E"
      },
      "execution_count": null,
      "outputs": []
    }
  ]
}